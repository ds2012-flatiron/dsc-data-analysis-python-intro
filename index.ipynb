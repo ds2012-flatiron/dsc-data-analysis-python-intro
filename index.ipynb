{
 "cells": [
  {
   "cell_type": "markdown",
   "metadata": {},
   "source": [
    "# Data Analysis in Base Python - Introduction"
   ]
  },
  {
   "cell_type": "markdown",
   "metadata": {},
   "source": [
    "## Introduction\n",
    "\n",
    "In this section, you'll continue solidifying your knowledge of Python programming, descriptive statistics, and data visualization by performing key data analysis tasks. You will learn how to load data from CSV and JSON files into Python objects in memory, and wrap up with an analysis that joins together two datasets.\n",
    "\n",
    "## Base Python\n",
    "\n",
    "When we say \"base Python\", this means that we are emphasizing the data types and modules that are part of Python itself, rather than using third-party libraries. For much of this course, you will use numerous Python libraries such as `pandas` and StatsModels, but first we want to dig into how data analysis tasks can be performed without them.\n",
    "\n",
    "### Python Data Types and Control Structures\n",
    "\n",
    "In this section, our data is stored in data structures that are built into the Python language: numbers, strings, lists, dictionaries, etc. For example, if we have this table of data:\n",
    "\n",
    "| color  | number |\n",
    "| ------ | ------ |\n",
    "| green  | 7      |\n",
    "| red    | 2      |\n",
    "| orange | 1      |\n",
    "\n",
    "A standard way we might represent that table would be a list of dictionaries, where each dictionary represents a row and has the keys `color` and `number`:"
   ]
  },
  {
   "cell_type": "code",
   "execution_count": 5,
   "metadata": {},
   "outputs": [
    {
     "data": {
      "text/plain": [
       "list"
      ]
     },
     "execution_count": 5,
     "metadata": {},
     "output_type": "execute_result"
    }
   ],
   "source": [
    "info_table = [\n",
    "    {\"color\": \"green\", \"number\": 7},\n",
    "    {\"color\": \"red\", \"number\": 2},\n",
    "    {\"color\": \"orange\", \"number\": 1}\n",
    "]\n",
    "\n",
    "type(info_table)"
   ]
  },
  {
   "cell_type": "markdown",
   "metadata": {},
   "source": [
    "Then if we wanted to print out all of the values associated with the `color` keys, the logic would look something like this:"
   ]
  },
  {
   "cell_type": "code",
   "execution_count": 6,
   "metadata": {},
   "outputs": [
    {
     "name": "stdout",
     "output_type": "stream",
     "text": [
      "green\n",
      "red\n",
      "orange\n"
     ]
    }
   ],
   "source": [
    "for row in info_table:\n",
    "    print(row[\"color\"])"
   ]
  },
  {
   "cell_type": "markdown",
   "metadata": {},
   "source": [
    "In later sections of this course, that same task (printing the list of colors) might look something like this, using the `pandas` library:"
   ]
  },
  {
   "cell_type": "code",
   "execution_count": 7,
   "metadata": {},
   "outputs": [
    {
     "data": {
      "text/plain": [
       "pandas.core.frame.DataFrame"
      ]
     },
     "execution_count": 7,
     "metadata": {},
     "output_type": "execute_result"
    }
   ],
   "source": [
    "import pandas as pd\n",
    "df = pd.DataFrame(info_table)\n",
    "type(df)"
   ]
  },
  {
   "cell_type": "code",
   "execution_count": 8,
   "metadata": {},
   "outputs": [
    {
     "name": "stdout",
     "output_type": "stream",
     "text": [
      "0     green\n",
      "1       red\n",
      "2    orange\n",
      "Name: color, dtype: object\n"
     ]
    }
   ],
   "source": [
    "print(df[\"color\"])"
   ]
  },
  {
   "cell_type": "markdown",
   "metadata": {},
   "source": [
    "In the base Python example, we had a variable `info_table` which was type `list` (a built-in Python type), whereas in the pandas example, we had a variable `df` which was type `pandas.core.frame.DataFrame` (a custom type from the pandas library).\n",
    "\n",
    "Then to print out the colors, in the base Python example we had a `for` loop and then code to extract the information from each individual dictionary. The string values got printed out without any additional markup. Then in the pandas example we did not have to use a loop (hint: this is *broadcasting* like we saw previously with NumPy) and also we had some extra markup where it printed out the index values as well as `Name: color, dtype: object`.\n",
    "\n",
    "In this section you will practice performing data analysis with the first (base Python) format, before eventually learning how to use pandas instead."
   ]
  },
  {
   "cell_type": "markdown",
   "metadata": {},
   "source": [
    "### Python Modules\n",
    "\n",
    "In addition to the data types used, we will also use built-in Python modules. These modules must be imported, but they are part of Python itself and do not require separate installation.\n",
    "\n",
    "The main modules we will focus on are `csv` ([documentation here](https://docs.python.org/3/library/csv.html)) and `json` ([documentation here](https://docs.python.org/3/library/json.html))."
   ]
  },
  {
   "cell_type": "code",
   "execution_count": 10,
   "metadata": {},
   "outputs": [],
   "source": [
    "import csv\n",
    "import json"
   ]
  },
  {
   "cell_type": "markdown",
   "metadata": {},
   "source": [
    "## Loading Data from Files\n",
    "\n",
    "While trivial example data structures like the one above can be declared directly in Python code, more realistic data comes in the form of a file on disk.\n",
    "\n",
    "In this section you will practice opening data files that use the CSV and JSON formats, then loading them into sensible objects using the `csv` and `json` libraries in order to perform additional analysis.\n",
    "\n",
    "### CSV Files\n",
    "\n",
    "The first major file type we will explore is CSV (comma-separated value). For example, this code loads a dataset of 5000 apple trees in an orchard, where the column `yield` represents the total pounds of apples yielded by that tree for a given year.\n",
    "\n",
    "You can think of the table as looking like this, except that it is thousands of lines long:\n",
    "\n",
    "| yield              |\n",
    "| -----------------  |\n",
    "| 39.741234289561504 |\n",
    "| 39.872054738763474 |\n",
    "| 44.33116416558151  |\n",
    "| 46.6006230827385   |\n",
    "| 40.694984210927196 |\n",
    "| 40.96981882686812  |\n",
    "\n",
    "In relatively few lines of code, we can perform some key data analysis tasks: counting, measuring central tendency, finding the maximum, and finding the minimum."
   ]
  },
  {
   "cell_type": "code",
   "execution_count": 11,
   "metadata": {},
   "outputs": [
    {
     "name": "stdout",
     "output_type": "stream",
     "text": [
      "Total apple tree yields: 5000\n",
      "Average apple tree yield: 42.40762385776258\n",
      "Maximum apple tree yield: 65.54817042071103\n",
      "Minimum apple tree yield: 21.93121221285836\n"
     ]
    }
   ],
   "source": [
    "with open(\"data/apple_orchard.csv\") as f:\n",
    "    apple_orchard_data = list(csv.DictReader(f))\n",
    "    apple_tree_yields = [float(x[\"yield\"]) for x in apple_orchard_data]\n",
    "    print(\"Total apple tree yields:\", len(apple_tree_yields))\n",
    "    print(\"Average apple tree yield:\", sum(apple_tree_yields) / len(apple_tree_yields))\n",
    "    print(\"Maximum apple tree yield:\", max(apple_tree_yields))\n",
    "    print(\"Minimum apple tree yield:\", min(apple_tree_yields))"
   ]
  },
  {
   "cell_type": "markdown",
   "metadata": {},
   "source": [
    "### JSON Files\n",
    "\n",
    "The second major file type we will explore is JSON (JavaScript object notation). For example, this code loads a dataset of interactions between Twitter users, where each user is represented as a \"node\" and when one tweets at another that connection is represented as a \"link\".\n",
    "\n",
    "You can think of this data as looking like this, although this version is truncated:\n",
    "\n",
    "```\n",
    "{\n",
    "  'nodes': [\n",
    "    {'id': '347457291'},\n",
    "    {'id': '232762581'},\n",
    "    {'id': '23678636'},\n",
    "    {'id': '21278412'},\n",
    "    {'id': '222040026'},\n",
    "    {'id': '19579205'},\n",
    "    {'id': '222957350'},\n",
    "    {'id': '264013722'},\n",
    "    ...\n",
    "  ],\n",
    "  'links': [\n",
    "    {'source': '347457291', 'target': '232762581'},\n",
    "    {'source': '347457291', 'target': '119706266'},\n",
    "    {'source': '347457291', 'target': '421509544'},\n",
    "    {'source': '232762581', 'target': '222957350'},\n",
    "    {'source': '232762581', 'target': '21648607'},\n",
    "    {'source': '232762581', 'target': '155691033'},\n",
    "    {'source': '232762581', 'target': '59974294'},\n",
    "    ...\n",
    "  ]\n",
    "  ...\n",
    "}\n",
    "```\n",
    "\n",
    "In relatively few lines of code, we can count the number of users and find the users who were \"sources\" (the user initiating a tweet that tags someone else) most often and \"targets\" (the user being tagged in a tweet) most often."
   ]
  },
  {
   "cell_type": "code",
   "execution_count": 13,
   "metadata": {},
   "outputs": [
    {
     "name": "stdout",
     "output_type": "stream",
     "text": [
      "<class 'dict'>\n",
      "twitter_data keys: dict_keys(['directed', 'multigraph', 'graph', 'nodes', 'links'])\n",
      "twitter_data values:  dict_values([False, False, {}, [{'id': '347457291'}, {'id': '232762581'}, {'id': '23678636'}, {'id': '21278412'}, {'id': '222040026'}, {'id': '19579205'}, {'id': '222957350'}, {'id': '264013722'}, {'id': '28377548'}, {'id': '240358326'}, {'id': '429068735'}, {'id': '42519612'}, {'id': '96821645'}, {'id': '119706266'}, {'id': '53318310'}, {'id': '19755970'}, {'id': '25765885'}, {'id': '20335463'}, {'id': '24883888'}, {'id': '19090806'}, {'id': '49076695'}, {'id': '523173553'}, {'id': '22336391'}, {'id': '155691033'}, {'id': '22818797'}, {'id': '21648607'}, {'id': '36829995'}, {'id': '21817105'}, {'id': '372968469'}, {'id': '259611070'}, {'id': '134992998'}, {'id': '531847058'}, {'id': '517019563'}, {'id': '208411504'}, {'id': '96477040'}, {'id': '388373141'}, {'id': '22050984'}, {'id': '17901282'}, {'id': '26686590'}, {'id': '32531517'}, {'id': '25399089'}, {'id': '25797630'}, {'id': '332578378'}, {'id': '24343869'}, {'id': '39812354'}, {'id': '19421716'}, {'id': '28235685'}, {'id': '93557607'}, {'id': '47261361'}, {'id': '22720927'}, {'id': '19774684'}, {'id': '508128621'}, {'id': '94918917'}, {'id': '46581868'}, {'id': '25132173'}, {'id': '145729532'}, {'id': '59974294'}, {'id': '29912355'}, {'id': '22910923'}, {'id': '386206170'}, {'id': '23642374'}, {'id': '25389372'}, {'id': '223586053'}, {'id': '139530242'}, {'id': '72719996'}, {'id': '114135209'}, {'id': '30484024'}, {'id': '68577152'}, {'id': '556156570'}, {'id': '55019353'}, {'id': '25626212'}, {'id': '525952691'}, {'id': '21838634'}, {'id': '135671793'}, {'id': '169686021'}, {'id': '208419151'}, {'id': '318010841'}, {'id': '16814790'}, {'id': '61355746'}, {'id': '55171143'}, {'id': '368152624'}, {'id': '21046992'}, {'id': '163161218'}, {'id': '421509544'}, {'id': '3745781'}, {'id': '39764261'}, {'id': '482272749'}, {'id': '533832202'}, {'id': '16303106'}, {'id': '45044245'}, {'id': '8552292'}, {'id': '30298704'}, {'id': '483215671'}, {'id': '52655085'}, {'id': '27481661'}, {'id': '534358762'}, {'id': '47460758'}, {'id': '73467659'}, {'id': '397688944'}], [{'source': '347457291', 'target': '232762581'}, {'source': '347457291', 'target': '119706266'}, {'source': '347457291', 'target': '421509544'}, {'source': '232762581', 'target': '222957350'}, {'source': '232762581', 'target': '21648607'}, {'source': '232762581', 'target': '155691033'}, {'source': '232762581', 'target': '59974294'}, {'source': '232762581', 'target': '223586053'}, {'source': '232762581', 'target': '372968469'}, {'source': '232762581', 'target': '32531517'}, {'source': '232762581', 'target': '39812354'}, {'source': '232762581', 'target': '3745781'}, {'source': '232762581', 'target': '525952691'}, {'source': '232762581', 'target': '19090806'}, {'source': '232762581', 'target': '94918917'}, {'source': '232762581', 'target': '28235685'}, {'source': '232762581', 'target': '145729532'}, {'source': '232762581', 'target': '259611070'}, {'source': '232762581', 'target': '119706266'}, {'source': '232762581', 'target': '523173553'}, {'source': '232762581', 'target': '46581868'}, {'source': '232762581', 'target': '23642374'}, {'source': '232762581', 'target': '388373141'}, {'source': '232762581', 'target': '8552292'}, {'source': '232762581', 'target': '421509544'}, {'source': '232762581', 'target': '30298704'}, {'source': '23678636', 'target': '21278412'}, {'source': '23678636', 'target': '46581868'}, {'source': '23678636', 'target': '259611070'}, {'source': '23678636', 'target': '55171143'}, {'source': '23678636', 'target': '240358326'}, {'source': '23678636', 'target': '96821645'}, {'source': '23678636', 'target': '93557607'}, {'source': '23678636', 'target': '21838634'}, {'source': '23678636', 'target': '61355746'}, {'source': '23678636', 'target': '169686021'}, {'source': '23678636', 'target': '42519612'}, {'source': '23678636', 'target': '25132173'}, {'source': '23678636', 'target': '332578378'}, {'source': '21278412', 'target': '134992998'}, {'source': '21278412', 'target': '55171143'}, {'source': '21278412', 'target': '21648607'}, {'source': '21278412', 'target': '259611070'}, {'source': '21278412', 'target': '22336391'}, {'source': '21278412', 'target': '114135209'}, {'source': '21278412', 'target': '30484024'}, {'source': '21278412', 'target': '429068735'}, {'source': '21278412', 'target': '53318310'}, {'source': '222040026', 'target': '19579205'}, {'source': '222040026', 'target': '25132173'}, {'source': '222040026', 'target': '16814790'}, {'source': '222040026', 'target': '20335463'}, {'source': '222040026', 'target': '96477040'}, {'source': '19579205', 'target': '19421716'}, {'source': '222957350', 'target': '145729532'}, {'source': '222957350', 'target': '372968469'}, {'source': '222957350', 'target': '368152624'}, {'source': '222957350', 'target': '318010841'}, {'source': '222957350', 'target': '23642374'}, {'source': '222957350', 'target': '28377548'}, {'source': '222957350', 'target': '208419151'}, {'source': '222957350', 'target': '388373141'}, {'source': '264013722', 'target': '28377548'}, {'source': '28377548', 'target': '372968469'}, {'source': '28377548', 'target': '388373141'}, {'source': '240358326', 'target': '429068735'}, {'source': '240358326', 'target': '22050984'}, {'source': '240358326', 'target': '332578378'}, {'source': '240358326', 'target': '25399089'}, {'source': '240358326', 'target': '23642374'}, {'source': '240358326', 'target': '96477040'}, {'source': '240358326', 'target': '21648607'}, {'source': '240358326', 'target': '53318310'}, {'source': '240358326', 'target': '24883888'}, {'source': '240358326', 'target': '49076695'}, {'source': '240358326', 'target': '22910923'}, {'source': '240358326', 'target': '96821645'}, {'source': '240358326', 'target': '25797630'}, {'source': '429068735', 'target': '96477040'}, {'source': '429068735', 'target': '42519612'}, {'source': '429068735', 'target': '21648607'}, {'source': '429068735', 'target': '169686021'}, {'source': '429068735', 'target': '16303106'}, {'source': '42519612', 'target': '96821645'}, {'source': '42519612', 'target': '36829995'}, {'source': '42519612', 'target': '17901282'}, {'source': '42519612', 'target': '22336391'}, {'source': '42519612', 'target': '61355746'}, {'source': '42519612', 'target': '53318310'}, {'source': '42519612', 'target': '49076695'}, {'source': '42519612', 'target': '55171143'}, {'source': '42519612', 'target': '531847058'}, {'source': '42519612', 'target': '93557607'}, {'source': '42519612', 'target': '21838634'}, {'source': '42519612', 'target': '155691033'}, {'source': '96821645', 'target': '49076695'}, {'source': '96821645', 'target': '55171143'}, {'source': '96821645', 'target': '53318310'}, {'source': '96821645', 'target': '119706266'}, {'source': '119706266', 'target': '68577152'}, {'source': '119706266', 'target': '16303106'}, {'source': '53318310', 'target': '19755970'}, {'source': '53318310', 'target': '25797630'}, {'source': '53318310', 'target': '24883888'}, {'source': '53318310', 'target': '332578378'}, {'source': '53318310', 'target': '21648607'}, {'source': '53318310', 'target': '20335463'}, {'source': '53318310', 'target': '163161218'}, {'source': '53318310', 'target': '22050984'}, {'source': '53318310', 'target': '22910923'}, {'source': '53318310', 'target': '96477040'}, {'source': '53318310', 'target': '26686590'}, {'source': '53318310', 'target': '22818797'}, {'source': '53318310', 'target': '19774684'}, {'source': '53318310', 'target': '169686021'}, {'source': '53318310', 'target': '25765885'}, {'source': '53318310', 'target': '25399089'}, {'source': '19755970', 'target': '24883888'}, {'source': '19755970', 'target': '26686590'}, {'source': '19755970', 'target': '25797630'}, {'source': '19755970', 'target': '20335463'}, {'source': '19755970', 'target': '49076695'}, {'source': '19755970', 'target': '21648607'}, {'source': '25765885', 'target': '20335463'}, {'source': '25765885', 'target': '49076695'}, {'source': '25765885', 'target': '26686590'}, {'source': '25765885', 'target': '25797630'}, {'source': '25765885', 'target': '22818797'}, {'source': '25765885', 'target': '332578378'}, {'source': '25765885', 'target': '21648607'}, {'source': '20335463', 'target': '26686590'}, {'source': '20335463', 'target': '25797630'}, {'source': '20335463', 'target': '22910923'}, {'source': '20335463', 'target': '22818797'}, {'source': '20335463', 'target': '96477040'}, {'source': '20335463', 'target': '24883888'}, {'source': '24883888', 'target': '19090806'}, {'source': '24883888', 'target': '19774684'}, {'source': '24883888', 'target': '22818797'}, {'source': '24883888', 'target': '25399089'}, {'source': '24883888', 'target': '556156570'}, {'source': '24883888', 'target': '169686021'}, {'source': '24883888', 'target': '22910923'}, {'source': '24883888', 'target': '25797630'}, {'source': '24883888', 'target': '21648607'}, {'source': '24883888', 'target': '22336391'}, {'source': '24883888', 'target': '25626212'}, {'source': '24883888', 'target': '49076695'}, {'source': '24883888', 'target': '22050984'}, {'source': '24883888', 'target': '29912355'}, {'source': '24883888', 'target': '386206170'}, {'source': '24883888', 'target': '73467659'}, {'source': '24883888', 'target': '32531517'}, {'source': '19090806', 'target': '523173553'}, {'source': '19090806', 'target': '531847058'}, {'source': '19090806', 'target': '25399089'}, {'source': '19090806', 'target': '39764261'}, {'source': '19090806', 'target': '16303106'}, {'source': '19090806', 'target': '145729532'}, {'source': '19090806', 'target': '47460758'}, {'source': '19090806', 'target': '23642374'}, {'source': '49076695', 'target': '517019563'}, {'source': '49076695', 'target': '93557607'}, {'source': '49076695', 'target': '21648607'}, {'source': '49076695', 'target': '155691033'}, {'source': '49076695', 'target': '22336391'}, {'source': '49076695', 'target': '169686021'}, {'source': '49076695', 'target': '114135209'}, {'source': '49076695', 'target': '523173553'}, {'source': '49076695', 'target': '22050984'}, {'source': '49076695', 'target': '135671793'}, {'source': '49076695', 'target': '531847058'}, {'source': '49076695', 'target': '68577152'}, {'source': '49076695', 'target': '22818797'}, {'source': '49076695', 'target': '259611070'}, {'source': '49076695', 'target': '96477040'}, {'source': '49076695', 'target': '22720927'}, {'source': '49076695', 'target': '32531517'}, {'source': '49076695', 'target': '19421716'}, {'source': '49076695', 'target': '39764261'}, {'source': '49076695', 'target': '23642374'}, {'source': '523173553', 'target': '22720927'}, {'source': '523173553', 'target': '36829995'}, {'source': '523173553', 'target': '39812354'}, {'source': '523173553', 'target': '135671793'}, {'source': '523173553', 'target': '25399089'}, {'source': '523173553', 'target': '96477040'}, {'source': '523173553', 'target': '24343869'}, {'source': '523173553', 'target': '19774684'}, {'source': '523173553', 'target': '531847058'}, {'source': '523173553', 'target': '525952691'}, {'source': '523173553', 'target': '388373141'}, {'source': '523173553', 'target': '25132173'}, {'source': '523173553', 'target': '517019563'}, {'source': '523173553', 'target': '259611070'}, {'source': '523173553', 'target': '163161218'}, {'source': '523173553', 'target': '39764261'}, {'source': '523173553', 'target': '94918917'}, {'source': '523173553', 'target': '25389372'}, {'source': '523173553', 'target': '30484024'}, {'source': '22336391', 'target': '155691033'}, {'source': '22336391', 'target': '169686021'}, {'source': '22336391', 'target': '30484024'}, {'source': '22336391', 'target': '25626212'}, {'source': '22336391', 'target': '25389372'}, {'source': '22336391', 'target': '139530242'}, {'source': '155691033', 'target': '134992998'}, {'source': '155691033', 'target': '25389372'}, {'source': '155691033', 'target': '22720927'}, {'source': '155691033', 'target': '30484024'}, {'source': '155691033', 'target': '139530242'}, {'source': '155691033', 'target': '24343869'}, {'source': '155691033', 'target': '517019563'}, {'source': '155691033', 'target': '36829995'}, {'source': '155691033', 'target': '39764261'}, {'source': '155691033', 'target': '135671793'}, {'source': '155691033', 'target': '169686021'}, {'source': '22818797', 'target': '21648607'}, {'source': '22818797', 'target': '26686590'}, {'source': '22818797', 'target': '96477040'}, {'source': '22818797', 'target': '19774684'}, {'source': '22818797', 'target': '22050984'}, {'source': '22818797', 'target': '25626212'}, {'source': '22818797', 'target': '25399089'}, {'source': '22818797', 'target': '25797630'}, {'source': '21648607', 'target': '139530242'}, {'source': '21648607', 'target': '26686590'}, {'source': '21648607', 'target': '25797630'}, {'source': '21648607', 'target': '22720927'}, {'source': '21648607', 'target': '556156570'}, {'source': '21648607', 'target': '169686021'}, {'source': '21648607', 'target': '332578378'}, {'source': '21648607', 'target': '27481661'}, {'source': '21648607', 'target': '25626212'}, {'source': '21648607', 'target': '59974294'}, {'source': '36829995', 'target': '525952691'}, {'source': '36829995', 'target': '135671793'}, {'source': '36829995', 'target': '39764261'}, {'source': '36829995', 'target': '25132173'}, {'source': '36829995', 'target': '22720927'}, {'source': '21817105', 'target': '372968469'}, {'source': '21817105', 'target': '55171143'}, {'source': '21817105', 'target': '55019353'}, {'source': '372968469', 'target': '145729532'}, {'source': '372968469', 'target': '59974294'}, {'source': '372968469', 'target': '23642374'}, {'source': '372968469', 'target': '163161218'}, {'source': '372968469', 'target': '388373141'}, {'source': '372968469', 'target': '61355746'}, {'source': '259611070', 'target': '134992998'}, {'source': '259611070', 'target': '388373141'}, {'source': '259611070', 'target': '23642374'}, {'source': '259611070', 'target': '531847058'}, {'source': '259611070', 'target': '169686021'}, {'source': '259611070', 'target': '46581868'}, {'source': '259611070', 'target': '525952691'}, {'source': '259611070', 'target': '22720927'}, {'source': '259611070', 'target': '55171143'}, {'source': '134992998', 'target': '388373141'}, {'source': '134992998', 'target': '169686021'}, {'source': '134992998', 'target': '22720927'}, {'source': '134992998', 'target': '24343869'}, {'source': '531847058', 'target': '517019563'}, {'source': '531847058', 'target': '24343869'}, {'source': '531847058', 'target': '135671793'}, {'source': '531847058', 'target': '39764261'}, {'source': '208411504', 'target': '96477040'}, {'source': '208411504', 'target': '169686021'}, {'source': '208411504', 'target': '93557607'}, {'source': '96477040', 'target': '72719996'}, {'source': '96477040', 'target': '525952691'}, {'source': '96477040', 'target': '22910923'}, {'source': '96477040', 'target': '163161218'}, {'source': '96477040', 'target': '45044245'}, {'source': '388373141', 'target': '28235685'}, {'source': '388373141', 'target': '386206170'}, {'source': '388373141', 'target': '368152624'}, {'source': '388373141', 'target': '525952691'}, {'source': '388373141', 'target': '23642374'}, {'source': '388373141', 'target': '145729532'}, {'source': '388373141', 'target': '208419151'}, {'source': '22050984', 'target': '25797630'}, {'source': '22050984', 'target': '32531517'}, {'source': '22050984', 'target': '25626212'}, {'source': '22050984', 'target': '114135209'}, {'source': '22050984', 'target': '26686590'}, {'source': '17901282', 'target': '47261361'}, {'source': '17901282', 'target': '21838634'}, {'source': '26686590', 'target': '25399089'}, {'source': '26686590', 'target': '29912355'}, {'source': '26686590', 'target': '25797630'}, {'source': '26686590', 'target': '25626212'}, {'source': '26686590', 'target': '19774684'}, {'source': '32531517', 'target': '25399089'}, {'source': '32531517', 'target': '25626212'}, {'source': '32531517', 'target': '114135209'}, {'source': '25399089', 'target': '25797630'}, {'source': '25399089', 'target': '25626212'}, {'source': '25399089', 'target': '114135209'}, {'source': '25797630', 'target': '29912355'}, {'source': '25797630', 'target': '22910923'}, {'source': '25797630', 'target': '25626212'}, {'source': '25797630', 'target': '19774684'}, {'source': '24343869', 'target': '39812354'}, {'source': '24343869', 'target': '16303106'}, {'source': '39812354', 'target': '23642374'}, {'source': '39812354', 'target': '145729532'}, {'source': '39812354', 'target': '139530242'}, {'source': '39812354', 'target': '135671793'}, {'source': '28235685', 'target': '55019353'}, {'source': '28235685', 'target': '3745781'}, {'source': '28235685', 'target': '59974294'}, {'source': '28235685', 'target': '23642374'}, {'source': '93557607', 'target': '21838634'}, {'source': '93557607', 'target': '52655085'}, {'source': '22720927', 'target': '525952691'}, {'source': '19774684', 'target': '25626212'}, {'source': '19774684', 'target': '22910923'}, {'source': '508128621', 'target': '94918917'}, {'source': '94918917', 'target': '483215671'}, {'source': '94918917', 'target': '397688944'}, {'source': '46581868', 'target': '61355746'}, {'source': '46581868', 'target': '223586053'}, {'source': '46581868', 'target': '23642374'}, {'source': '145729532', 'target': '318010841'}, {'source': '145729532', 'target': '368152624'}, {'source': '145729532', 'target': '208419151'}, {'source': '59974294', 'target': '223586053'}, {'source': '29912355', 'target': '22910923'}, {'source': '29912355', 'target': '45044245'}, {'source': '22910923', 'target': '163161218'}, {'source': '22910923', 'target': '45044245'}, {'source': '386206170', 'target': '23642374'}, {'source': '23642374', 'target': '114135209'}, {'source': '23642374', 'target': '21046992'}, {'source': '23642374', 'target': '61355746'}, {'source': '23642374', 'target': '55019353'}, {'source': '25389372', 'target': '30484024'}, {'source': '114135209', 'target': '25626212'}, {'source': '68577152', 'target': '169686021'}, {'source': '68577152', 'target': '3745781'}, {'source': '556156570', 'target': '169686021'}, {'source': '55019353', 'target': '534358762'}, {'source': '25626212', 'target': '3745781'}, {'source': '525952691', 'target': '8552292'}, {'source': '21838634', 'target': '55171143'}, {'source': '169686021', 'target': '421509544'}, {'source': '169686021', 'target': '368152624'}, {'source': '208419151', 'target': '318010841'}, {'source': '208419151', 'target': '368152624'}, {'source': '318010841', 'target': '368152624'}, {'source': '16814790', 'target': '16303106'}, {'source': '39764261', 'target': '73467659'}, {'source': '482272749', 'target': '533832202'}, {'source': '8552292', 'target': '30298704'}]])\n",
      "There are 99 users in this dataset\n",
      "\n",
      "Top 5 Sources:\n",
      "User 232762581\t| 23 Tweets\n",
      "User 49076695\t| 20 Tweets\n",
      "User 523173553\t| 19 Tweets\n",
      "User 24883888\t| 17 Tweets\n",
      "User 53318310\t| 16 Tweets\n",
      "\n",
      "Top 5 Targets:\n",
      "User 169686021\t| 13 Tweets\n",
      "User 23642374\t| 12 Tweets\n",
      "User 25797630\t| 11 Tweets\n",
      "User 25626212\t| 11 Tweets\n",
      "User 21648607\t| 10 Tweets\n"
     ]
    }
   ],
   "source": [
    "def build_freq_table(key, links):\n",
    "    table = {}\n",
    "    for link in links:\n",
    "        user = link[key]\n",
    "        table[user] = table.get(user, 0) + 1\n",
    "    return table\n",
    "\n",
    "def print_top_5(table):\n",
    "    for k, v in sorted(table.items(), key=lambda x: x[1], reverse=True)[:5]:\n",
    "        print(f\"User {k}\\t| {v} Tweets\")\n",
    "\n",
    "with open(\"data/twitter_graph.json\") as f:\n",
    "    twitter_data = json.load(f)\n",
    "    print(type(twitter_data))\n",
    "    print(\"twitter_data keys:\", twitter_data.keys())\n",
    "    print(\"twitter_data values: \", twitter_data.values())\n",
    "    print(f\"There are {len(twitter_data['nodes'])} users in this dataset\")\n",
    "    print()\n",
    "    \n",
    "    links = twitter_data[\"links\"]\n",
    "    sources = build_freq_table(\"source\", links)\n",
    "    targets = build_freq_table(\"target\", links)\n",
    "        \n",
    "    print(\"Top 5 Sources:\")\n",
    "    print_top_5(sources)\n",
    "    print()\n",
    "    print(\"Top 5 Targets:\")\n",
    "    print_top_5(targets)"
   ]
  },
  {
   "cell_type": "markdown",
   "metadata": {},
   "source": [
    "## What About NumPy and Matplotlib?\n",
    "\n",
    "You can continue using NumPy and Matplotlib as you see fit. For example, if you want to convert a base Python list into a NumPy array because it will help you perform some descriptive analysis task, that is not an issue. You will also need to use Matplotlib in the lessons ahead to create the required visualizations.\n",
    "\n",
    "The main library that you will *not* be using extensively is `pandas`, which will be introduced in a future section."
   ]
  },
  {
   "cell_type": "markdown",
   "metadata": {},
   "source": [
    "## Summary\n",
    "\n",
    "In this section you will learn how to load and manipulate CSV and JSON datasets using base Python. This means that we will mainly be using the data structures and modules built into Python, rather than third-party libraries. We also walked through some examples of the kinds of analysis you will be able to perform by the end of this section."
   ]
  }
 ],
 "metadata": {
  "kernelspec": {
   "display_name": "Python (learn-env)",
   "language": "python",
   "name": "learn-env"
  },
  "language_info": {
   "codemirror_mode": {
    "name": "ipython",
    "version": 3
   },
   "file_extension": ".py",
   "mimetype": "text/x-python",
   "name": "python",
   "nbconvert_exporter": "python",
   "pygments_lexer": "ipython3",
   "version": "3.8.5"
  }
 },
 "nbformat": 4,
 "nbformat_minor": 4
}
